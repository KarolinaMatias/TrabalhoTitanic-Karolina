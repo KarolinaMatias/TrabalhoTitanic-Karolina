{
 "cells": [
  {
   "cell_type": "markdown",
   "metadata": {},
   "source": [
    "# Análise de Dados Exploratória do Titanic\n",
    "\n",
    "![titanic](img/titanic_historical.jpg \"Pintura do Titanic\")"
   ]
  },
  {
   "cell_type": "markdown",
   "metadata": {},
   "source": [
    "# 1. Introdução\n",
    "\n",
    "O RMS Titanic foi um navio de passageiros britânico operado pela empresa *White Star Line* que afundou no Oceano Atlântico Norte nas primeiras horas da manhã de 15 de abril de 1912, depois de atingir um iceberg durante sua viagem inaugural de Southampton a Nova York. Dos 2.224 passageiros e tripulantes a bordo, mais de 1.500 morreram, tornando o naufrágio um dos desastres marítimos comerciais mais mortais da história moderna em tempos de paz.\n",
    "\n",
    "Neste estudo iremos explorar um conjunto de dados baseado na lista de passageiros do Titanic editada por Michael A. Findlay, publicada originalmente em Eaton & Haas (1994) Titanic: Triumph and Tragedy, Patrick Stephens Ltd, e expandida com a ajuda da comunidade da Internet. Os arquivos HTML originais foram obtidos por Philip Hind (1999) e o *dataset* descreve o status de sobrevivência de passageiros individuais no Titanic. Ele não contém informações para a tripulação, mas contém idades atuais e estimadas para quase 80% dos passageiros."
   ]
  },
  {
   "cell_type": "markdown",
   "metadata": {},
   "source": [
    "## 1.1. Objetivos\n",
    "\n",
    "O objetivo deste estudo é realizar uma Análise Exploratória dos Dados (Exploratory Data Analysis - EDA) do conjunto de dados `titanic3`, adaptado pelo autor e disponível em [data/titanic3.csv](data/titanic.csv); a fim de caracterizar o perfil dos sobreviventes do fatídico naufrágio. Especificiamente serão respondidas as seguintes questões de pesquisa:\n",
    "\n",
    "1. [Qual é o número de Sobreviventes?](#3.1.-Qual-é-o-número-de-Sobreviventes?)\n",
    "2. [Homens ou mulheres tiveram mais chances de sobreviver?](#3.2.-Homens-ou-mulheres-tiveram-mais-chances-de-sobreviver?)\n",
    "3. [Qual classe social teve mais sobreviventes?](#3.3.-Qual-classe-social-teve-mais-sobreviventes?)\n",
    "4. [Qual faixa etária teve mais chances de sobreviver?](#3.4.-Qual-faixa-etária-teve-mais-chances-de-sobreviver?)\n"
   ]
  },
  {
   "cell_type": "markdown",
   "metadata": {},
   "source": [
    "# 2. Metodologia\n",
    "\n",
    "Nesta seção será apresentado todo o processo de preparação, organização e limpeza de dados feito no *dataset* que possui os seguintes dados:\n",
    "\n",
    "| Coluna          | Descrição                                                                 |\n",
    "|-----------------|---------------------------------------------------------------------------|\n",
    "| id_passageiro   | Identficador único do passageiro.                                         |\n",
    "| classe          | Classe social.                                                            |\n",
    "| sobreviveu      | Sobrevivente? Sim (1), Não (0).                                           |\n",
    "| nome            | Nome do passageiro.                                                       |\n",
    "| sexo            | Masculino (male), Feminino (female).                                      |\n",
    "| idade           | Idade do passageiro.                                                      |\n",
    "| irmaos_conjuges | Número de irmãos e cônjuges a bordo.                                      |\n",
    "| pais_filhos     | Número de pais e filhos a bordo.                                          |\n",
    "| bilhete         | Número do bilhete                                                         |\n",
    "| tarifa          | Preço da tarifa do passageiro.                                            |\n",
    "| cabine          | Cabine.                                                                   |\n",
    "| embarque        | Nome do porto de embarque: C = Cherbourg; Q = Queenstown; S = Southampton |\n",
    "| bote            | Bote salva vidas.                                                         |\n",
    "| corpo           | Número de identificação do corpo.                                         |\n",
    "| destino         | Local de desembarque do passageiro.                                       |\n",
    "\n",
    "## OBSERVAÇÕES\n",
    "\n",
    "- `classe` é uma aproximação do status socioeconômico na época, onde: 1 = Classe Alta1; 2 = Classe Média e 3 = Classe Baixa;\n",
    "- `idade` está representada em anos, porém, se a idade for menor que Um (1) ou caso tenha sido estimada, ela estará com casas decimais xx.5;\n",
    "- `tarifa` está em Libras esterlinas (British Pounds - £) anteriores a 1970;\n",
    "- `irmaos_conjuges` e `pais_filhos`: as variáveis de relação familiar de algumas relações foram ignoradas; a seguir estão as definições usadas:\n",
    "    - **Irmão**: Irmão, irmã, meio-irmão ou meia-irmã do passageiro a bordo do Titanic;\n",
    "    - **Cônjuge**: Marido ou esposa do passageiro a bordo do Titanic (amantes e noivos ignorados);\n",
    "    - **Pai**: Mãe ou pai do passageiro a bordo do Titanic;\n",
    "    - **Criança**: Filho, Filha, Enteado ou Enteada do Passageiro a bordo do Titanic;\n",
    "    - Outros parentes excluídos deste estudo incluem primos, sobrinhos / sobrinhas, tias / tios e parentes;\n",
    "    - Algumas crianças viajavam apenas com uma babá, portanto foi atribuído 0 para elas em pais_filhos; \n",
    "    - Alguns viajaram com amigos ou vizinhos muito próximos em uma vila, no entanto, as definições não apóiam essas relações.\n"
   ]
  },
  {
   "cell_type": "markdown",
   "metadata": {},
   "source": [
    "## 2.1. Configuração do Ambiente"
   ]
  },
  {
   "cell_type": "code",
   "execution_count": 19,
   "metadata": {},
   "outputs": [],
   "source": [
    "import numpy as np\n",
    "import pandas as pd"
   ]
  },
  {
   "cell_type": "markdown",
   "metadata": {},
   "source": [
    "## 2.2. Leitura dos Dados"
   ]
  },
  {
   "cell_type": "code",
   "execution_count": 20,
   "metadata": {},
   "outputs": [],
   "source": [
    "dataT = pd.read_csv(\"data/titanic3.csv\")"
   ]
  },
  {
   "cell_type": "markdown",
   "metadata": {},
   "source": [
    "## 2.3. Organização e Limpeza dos Dados"
   ]
  },
  {
   "cell_type": "markdown",
   "metadata": {},
   "source": [
    "### 2.3.1. Visão Geral do Conjunto de Dados"
   ]
  },
  {
   "cell_type": "code",
   "execution_count": 21,
   "metadata": {},
   "outputs": [
    {
     "name": "stdout",
     "output_type": "stream",
     "text": [
      "<class 'pandas.core.frame.DataFrame'>\n",
      "RangeIndex: 1309 entries, 0 to 1308\n",
      "Data columns (total 15 columns):\n",
      " #   Column           Non-Null Count  Dtype  \n",
      "---  ------           --------------  -----  \n",
      " 0   id_passageiro    1309 non-null   int64  \n",
      " 1   classe           1309 non-null   int64  \n",
      " 2   sobreviveu       1309 non-null   int64  \n",
      " 3   nome             1309 non-null   object \n",
      " 4   sexo             1309 non-null   object \n",
      " 5   idade            1046 non-null   float64\n",
      " 6   irmaos_conjuges  1309 non-null   int64  \n",
      " 7   pais_filhos      1309 non-null   int64  \n",
      " 8   bilhete          1309 non-null   object \n",
      " 9   tarifa           1308 non-null   float64\n",
      " 10  cabine           295 non-null    object \n",
      " 11  embarque         1307 non-null   object \n",
      " 12  bote             486 non-null    object \n",
      " 13  corpo            121 non-null    float64\n",
      " 14  destino          745 non-null    object \n",
      "dtypes: float64(3), int64(5), object(7)\n",
      "memory usage: 153.5+ KB\n"
     ]
    }
   ],
   "source": [
    "dataT.info()"
   ]
  },
  {
   "cell_type": "code",
   "execution_count": 22,
   "metadata": {},
   "outputs": [
    {
     "data": {
      "text/plain": [
       "(1309, 15)"
      ]
     },
     "execution_count": 22,
     "metadata": {},
     "output_type": "execute_result"
    }
   ],
   "source": [
    "dataT.shape"
   ]
  },
  {
   "cell_type": "markdown",
   "metadata": {},
   "source": [
    "### 2.3.2 Remoção de Colunas\n",
    "Remoção de colunas incompletas e/ou desnecessárias para a análise."
   ]
  },
  {
   "cell_type": "code",
   "execution_count": 23,
   "metadata": {},
   "outputs": [
    {
     "data": {
      "text/html": [
       "<div>\n",
       "<style scoped>\n",
       "    .dataframe tbody tr th:only-of-type {\n",
       "        vertical-align: middle;\n",
       "    }\n",
       "\n",
       "    .dataframe tbody tr th {\n",
       "        vertical-align: top;\n",
       "    }\n",
       "\n",
       "    .dataframe thead th {\n",
       "        text-align: right;\n",
       "    }\n",
       "</style>\n",
       "<table border=\"1\" class=\"dataframe\">\n",
       "  <thead>\n",
       "    <tr style=\"text-align: right;\">\n",
       "      <th></th>\n",
       "      <th>classe</th>\n",
       "      <th>sobreviveu</th>\n",
       "      <th>sexo</th>\n",
       "      <th>idade</th>\n",
       "      <th>irmaos_conjuges</th>\n",
       "      <th>pais_filhos</th>\n",
       "      <th>tarifa</th>\n",
       "      <th>embarque</th>\n",
       "    </tr>\n",
       "  </thead>\n",
       "  <tbody>\n",
       "    <tr>\n",
       "      <th>0</th>\n",
       "      <td>1</td>\n",
       "      <td>1</td>\n",
       "      <td>female</td>\n",
       "      <td>29.0</td>\n",
       "      <td>0</td>\n",
       "      <td>0</td>\n",
       "      <td>211.3375</td>\n",
       "      <td>S</td>\n",
       "    </tr>\n",
       "    <tr>\n",
       "      <th>1</th>\n",
       "      <td>1</td>\n",
       "      <td>1</td>\n",
       "      <td>male</td>\n",
       "      <td>1.0</td>\n",
       "      <td>1</td>\n",
       "      <td>2</td>\n",
       "      <td>151.5500</td>\n",
       "      <td>S</td>\n",
       "    </tr>\n",
       "    <tr>\n",
       "      <th>2</th>\n",
       "      <td>1</td>\n",
       "      <td>0</td>\n",
       "      <td>female</td>\n",
       "      <td>2.0</td>\n",
       "      <td>1</td>\n",
       "      <td>2</td>\n",
       "      <td>151.5500</td>\n",
       "      <td>S</td>\n",
       "    </tr>\n",
       "    <tr>\n",
       "      <th>3</th>\n",
       "      <td>1</td>\n",
       "      <td>0</td>\n",
       "      <td>male</td>\n",
       "      <td>30.0</td>\n",
       "      <td>1</td>\n",
       "      <td>2</td>\n",
       "      <td>151.5500</td>\n",
       "      <td>S</td>\n",
       "    </tr>\n",
       "    <tr>\n",
       "      <th>4</th>\n",
       "      <td>1</td>\n",
       "      <td>0</td>\n",
       "      <td>female</td>\n",
       "      <td>25.0</td>\n",
       "      <td>1</td>\n",
       "      <td>2</td>\n",
       "      <td>151.5500</td>\n",
       "      <td>S</td>\n",
       "    </tr>\n",
       "  </tbody>\n",
       "</table>\n",
       "</div>"
      ],
      "text/plain": [
       "   classe  sobreviveu    sexo  idade  irmaos_conjuges  pais_filhos    tarifa  \\\n",
       "0       1           1  female   29.0                0            0  211.3375   \n",
       "1       1           1    male    1.0                1            2  151.5500   \n",
       "2       1           0  female    2.0                1            2  151.5500   \n",
       "3       1           0    male   30.0                1            2  151.5500   \n",
       "4       1           0  female   25.0                1            2  151.5500   \n",
       "\n",
       "  embarque  \n",
       "0        S  \n",
       "1        S  \n",
       "2        S  \n",
       "3        S  \n",
       "4        S  "
      ]
     },
     "execution_count": 23,
     "metadata": {},
     "output_type": "execute_result"
    }
   ],
   "source": [
    "dataT = dataT.drop(['id_passageiro', 'nome', 'bilhete', 'cabine', 'bote', 'corpo', 'destino'], axis='columns')\n",
    "\n",
    "dataT.head()"
   ]
  },
  {
   "cell_type": "markdown",
   "metadata": {},
   "source": [
    "### 2.3.3. Dados Ausentes"
   ]
  },
  {
   "cell_type": "code",
   "execution_count": 24,
   "metadata": {},
   "outputs": [
    {
     "data": {
      "text/plain": [
       "classe               0\n",
       "sobreviveu           0\n",
       "sexo                 0\n",
       "idade              263\n",
       "irmaos_conjuges      0\n",
       "pais_filhos          0\n",
       "tarifa               1\n",
       "embarque             2\n",
       "dtype: int64"
      ]
     },
     "execution_count": 24,
     "metadata": {},
     "output_type": "execute_result"
    }
   ],
   "source": [
    "dataT.isna().sum()"
   ]
  },
  {
   "cell_type": "markdown",
   "metadata": {},
   "source": [
    "#### 2.3.3.1 Idades Ausentes\n",
    "Para os dados ausentes da coluna `idade` será feita a substituição dos dados vazios pela média das idades na época."
   ]
  },
  {
   "cell_type": "code",
   "execution_count": 26,
   "metadata": {},
   "outputs": [
    {
     "name": "stdout",
     "output_type": "stream",
     "text": [
      "Dados ausentes: 0\n"
     ]
    }
   ],
   "source": [
    "dataT['idade'] = dataT['idade'].fillna(dataT['idade'].median())\n",
    "\n",
    "print('Dados ausentes:', dataT['idade'].isna().sum())"
   ]
  },
  {
   "cell_type": "markdown",
   "metadata": {},
   "source": [
    "#### 2.3.3.2 Tarifas Ausentes\n",
    "Para os dados ausentes da coluna `tarifa`será feita a substituição dos dados vazios pela média de preço das tarifas na época."
   ]
  },
  {
   "cell_type": "code",
   "execution_count": 27,
   "metadata": {},
   "outputs": [
    {
     "name": "stdout",
     "output_type": "stream",
     "text": [
      "Tarifas ausentes: 0\n"
     ]
    }
   ],
   "source": [
    "dataT['tarifa'] = dataT['tarifa'].fillna(dataT['tarifa'].median())\n",
    "\n",
    "print('Tarifas ausentes:', dataT['tarifa'].isna().sum())"
   ]
  },
  {
   "cell_type": "markdown",
   "metadata": {},
   "source": [
    "#### 2.3.3.3 Portos de Embarque Ausentes\n",
    "Para os dados ausentes da coluna `embarque`será feita a remoção dos dados vazios."
   ]
  },
  {
   "cell_type": "code",
   "execution_count": 28,
   "metadata": {},
   "outputs": [
    {
     "name": "stdout",
     "output_type": "stream",
     "text": [
      "Embarques ausentes: 0\n"
     ]
    }
   ],
   "source": [
    "dataT = dataT.dropna(subset=['embarque'])\n",
    "\n",
    "print('Embarques ausentes:', dataT['embarque'].isnull().sum())"
   ]
  },
  {
   "cell_type": "markdown",
   "metadata": {},
   "source": [
    "## 2.4. Mapeamento de Dados\n",
    "Para melhorar a análise e interpretação dos dados os seguintes atributos serão modificados:\n",
    "\n",
    "| Coluna    | Original     | Modificado                          |\n",
    "|:----------|:-------------|:------------------------------------|\n",
    "| Classe    | 1, 2, 3      | Alta, Média, Baixa                  |\n",
    "| Sexo      | male, female | M, F                                |\n",
    "| Embarque  | C, Q, S      | Cherbourg, Queenstown, Southampton  |\n"
   ]
  },
  {
   "cell_type": "code",
   "execution_count": 29,
   "metadata": {},
   "outputs": [
    {
     "data": {
      "text/html": [
       "<div>\n",
       "<style scoped>\n",
       "    .dataframe tbody tr th:only-of-type {\n",
       "        vertical-align: middle;\n",
       "    }\n",
       "\n",
       "    .dataframe tbody tr th {\n",
       "        vertical-align: top;\n",
       "    }\n",
       "\n",
       "    .dataframe thead th {\n",
       "        text-align: right;\n",
       "    }\n",
       "</style>\n",
       "<table border=\"1\" class=\"dataframe\">\n",
       "  <thead>\n",
       "    <tr style=\"text-align: right;\">\n",
       "      <th></th>\n",
       "      <th>classe</th>\n",
       "      <th>sexo</th>\n",
       "      <th>embarque</th>\n",
       "    </tr>\n",
       "  </thead>\n",
       "  <tbody>\n",
       "    <tr>\n",
       "      <th>0</th>\n",
       "      <td>Alta</td>\n",
       "      <td>F</td>\n",
       "      <td>Southampton</td>\n",
       "    </tr>\n",
       "    <tr>\n",
       "      <th>1</th>\n",
       "      <td>Alta</td>\n",
       "      <td>M</td>\n",
       "      <td>Southampton</td>\n",
       "    </tr>\n",
       "    <tr>\n",
       "      <th>2</th>\n",
       "      <td>Alta</td>\n",
       "      <td>F</td>\n",
       "      <td>Southampton</td>\n",
       "    </tr>\n",
       "    <tr>\n",
       "      <th>3</th>\n",
       "      <td>Alta</td>\n",
       "      <td>M</td>\n",
       "      <td>Southampton</td>\n",
       "    </tr>\n",
       "    <tr>\n",
       "      <th>4</th>\n",
       "      <td>Alta</td>\n",
       "      <td>F</td>\n",
       "      <td>Southampton</td>\n",
       "    </tr>\n",
       "    <tr>\n",
       "      <th>...</th>\n",
       "      <td>...</td>\n",
       "      <td>...</td>\n",
       "      <td>...</td>\n",
       "    </tr>\n",
       "    <tr>\n",
       "      <th>1304</th>\n",
       "      <td>Baixa</td>\n",
       "      <td>F</td>\n",
       "      <td>Cherbourg</td>\n",
       "    </tr>\n",
       "    <tr>\n",
       "      <th>1305</th>\n",
       "      <td>Baixa</td>\n",
       "      <td>F</td>\n",
       "      <td>Cherbourg</td>\n",
       "    </tr>\n",
       "    <tr>\n",
       "      <th>1306</th>\n",
       "      <td>Baixa</td>\n",
       "      <td>M</td>\n",
       "      <td>Cherbourg</td>\n",
       "    </tr>\n",
       "    <tr>\n",
       "      <th>1307</th>\n",
       "      <td>Baixa</td>\n",
       "      <td>M</td>\n",
       "      <td>Cherbourg</td>\n",
       "    </tr>\n",
       "    <tr>\n",
       "      <th>1308</th>\n",
       "      <td>Baixa</td>\n",
       "      <td>M</td>\n",
       "      <td>Southampton</td>\n",
       "    </tr>\n",
       "  </tbody>\n",
       "</table>\n",
       "<p>1307 rows × 3 columns</p>\n",
       "</div>"
      ],
      "text/plain": [
       "     classe sexo     embarque\n",
       "0      Alta    F  Southampton\n",
       "1      Alta    M  Southampton\n",
       "2      Alta    F  Southampton\n",
       "3      Alta    M  Southampton\n",
       "4      Alta    F  Southampton\n",
       "...     ...  ...          ...\n",
       "1304  Baixa    F    Cherbourg\n",
       "1305  Baixa    F    Cherbourg\n",
       "1306  Baixa    M    Cherbourg\n",
       "1307  Baixa    M    Cherbourg\n",
       "1308  Baixa    M  Southampton\n",
       "\n",
       "[1307 rows x 3 columns]"
      ]
     },
     "execution_count": 29,
     "metadata": {},
     "output_type": "execute_result"
    }
   ],
   "source": [
    "dataT = dataT.replace({'classe' : {1 : 'Alta', 2 : 'Media', 3 : 'Baixa'}, 'sexo': {'male' : 'M', 'female' : 'F'},'embarque' : {'C' : 'Cherbourg', 'Q' : 'Queenstown', 'S' : 'Southampton'}})\n",
    "\n",
    "dataT[{'classe', 'sexo', 'embarque'}]"
   ]
  },
  {
   "cell_type": "markdown",
   "metadata": {},
   "source": [
    "## 2.5.  Feature Engineering\n",
    "\n",
    "A engenharia de recursos (*Feature Engineering*) é o processo de usar o conhecimento do domínio para extrair recursos dos dados brutos. Neste estudo serão acrescentadas as seguintes colunas para enriquecer a análise de dados:\n",
    "\n",
    "| Coluna         | Descrição                                                         |\n",
    "|:---------------|:------------------------------------------------------------------|\n",
    "| total_parentes | Número total de parentes a bordo: `irmaos_conjuges + pais_filhos` |\n",
    "| faixa_etaria   | Intervalo de idades dos passageiros.                              |"
   ]
  },
  {
   "cell_type": "markdown",
   "metadata": {},
   "source": [
    "### 2.5.1 Total de Parentes"
   ]
  },
  {
   "cell_type": "code",
   "execution_count": 30,
   "metadata": {},
   "outputs": [
    {
     "data": {
      "text/plain": [
       "0       0\n",
       "1       3\n",
       "2       3\n",
       "3       3\n",
       "4       3\n",
       "       ..\n",
       "1304    1\n",
       "1305    1\n",
       "1306    0\n",
       "1307    0\n",
       "1308    0\n",
       "Name: total_parentes, Length: 1307, dtype: int64"
      ]
     },
     "execution_count": 30,
     "metadata": {},
     "output_type": "execute_result"
    }
   ],
   "source": [
    "dataT['total_parentes'] = dataT['irmaos_conjuges'] + dataT['pais_filhos']\n",
    "\n",
    "dataT['total_parentes']"
   ]
  },
  {
   "cell_type": "markdown",
   "metadata": {},
   "source": [
    "### 2.5.2 Faixas Etárias"
   ]
  },
  {
   "cell_type": "code",
   "execution_count": 31,
   "metadata": {},
   "outputs": [
    {
     "data": {
      "text/plain": [
       "0       Adulto\n",
       "1        Jovem\n",
       "2        Jovem\n",
       "3       Adulto\n",
       "4       Adulto\n",
       "         ...  \n",
       "1304     Jovem\n",
       "1305    Adulto\n",
       "1306    Adulto\n",
       "1307    Adulto\n",
       "1308    Adulto\n",
       "Name: faixa_etaria, Length: 1307, dtype: object"
      ]
     },
     "execution_count": 31,
     "metadata": {},
     "output_type": "execute_result"
    }
   ],
   "source": [
    "dataT.loc[((dataT['idade'] >= 0) & (dataT['idade'] < 20)),  'faixa_etaria'] = 'Jovem'\n",
    "dataT.loc[((dataT['idade'] >= 20) & (dataT['idade'] < 60)),  'faixa_etaria'] = 'Adulto'\n",
    "dataT.loc[(dataT['idade'] >= 60),  'faixa_etaria'] = 'Idoso'\n",
    "\n",
    "dataT['faixa_etaria']"
   ]
  },
  {
   "cell_type": "markdown",
   "metadata": {},
   "source": [
    "# 3. Análise dos Dados"
   ]
  },
  {
   "cell_type": "markdown",
   "metadata": {},
   "source": [
    "## 3.1. Qual é o número de Sobreviventes?"
   ]
  },
  {
   "cell_type": "code",
   "execution_count": 32,
   "metadata": {},
   "outputs": [
    {
     "name": "stdout",
     "output_type": "stream",
     "text": [
      "Sobrevieram: 498\n"
     ]
    }
   ],
   "source": [
    "print('Sobrevieram:', dataT['sobreviveu'].loc[dataT['sobreviveu'] == 1].sum())"
   ]
  },
  {
   "cell_type": "markdown",
   "metadata": {},
   "source": [
    "## 3.2. Homens ou mulheres tiveram mais chances de sobreviver?"
   ]
  },
  {
   "cell_type": "code",
   "execution_count": 35,
   "metadata": {},
   "outputs": [
    {
     "name": "stdout",
     "output_type": "stream",
     "text": [
      "O numero de mulheres sobreviventes foi maior que de homens, total: 337\n"
     ]
    }
   ],
   "source": [
    "homens = dataT['sobreviveu'].loc[((dataT['sexo'] == 'M') & dataT['sobreviveu'] == 1)].sum()\n",
    "mulheres = dataT['sobreviveu'].loc[(dataT['sobreviveu'] == 1) & (dataT['sexo'] == 'F')].sum()\n",
    "\n",
    "if mulheres > homens:\n",
    "    print('O numero de mulheres sobreviventes foi maior que de homens, total:', mulheres)\n",
    "else:\n",
    "    print('O numero de homens sobreviventes foi maior que de mulheres, total:', homens)"
   ]
  },
  {
   "cell_type": "markdown",
   "metadata": {},
   "source": [
    "## 3.3. Qual classe social teve mais sobreviventes?"
   ]
  },
  {
   "cell_type": "code",
   "execution_count": 37,
   "metadata": {},
   "outputs": [
    {
     "name": "stdout",
     "output_type": "stream",
     "text": [
      "A classe que teve mais sobreviventes foi a classe Alta: 198\n"
     ]
    }
   ],
   "source": [
    "alta = dataT['sobreviveu'].loc[((dataT['classe'] == 'Alta') & dataT['sobreviveu'] == 1)].sum()\n",
    "media = dataT['sobreviveu'].loc[((dataT['classe'] == 'Media') & dataT['sobreviveu'] == 1)].sum()\n",
    "baixa = dataT['sobreviveu'].loc[((dataT['classe'] == 'Baixa') & dataT['sobreviveu'] == 1)].sum()\n",
    "\n",
    "if alta > media and alta > baixa:\n",
    "    print('A classe que teve mais sobreviventes foi a classe Alta:', alta)\n",
    "elif media > alta and media > baixa:\n",
    "    print('A classe que teve mais sobreviventes foi a classe Média:', media)\n",
    "else:\n",
    "    print('A classe que teve mais sobreviventes foi a classe Baixa', baixa)"
   ]
  },
  {
   "cell_type": "markdown",
   "metadata": {},
   "source": [
    "## 3.4. Qual faixa etária teve mais chances de sobreviver?"
   ]
  },
  {
   "cell_type": "code",
   "execution_count": 39,
   "metadata": {},
   "outputs": [
    {
     "name": "stdout",
     "output_type": "stream",
     "text": [
      "A faixa etaria que teve mais sobreviventes foi a de Adultos: 381\n"
     ]
    }
   ],
   "source": [
    "jovens = dataT['sobreviveu'].loc[((dataT['faixa_etaria'] == 'Jovem') & dataT['sobreviveu'] == 1)].sum()\n",
    "adultos = dataT['sobreviveu'].loc[((dataT['faixa_etaria'] == 'Adulto') & dataT['sobreviveu'] == 1)].sum()\n",
    "idosos = dataT['sobreviveu'].loc[((dataT['faixa_etaria'] == 'Idoso') & dataT['sobreviveu'] == 1)].sum()\n",
    "\n",
    "if jovens > adultos and jovens > idosos:\n",
    "    print('A faixa etaria que teve mais sobreviventes foi a de Jovens:', jovens)\n",
    "elif adultos > jovens and adultos > idosos:\n",
    "    print('A faixa etaria que teve mais sobreviventes foi a de Adultos:', adultos)\n",
    "else:\n",
    "    print('A faixa etaria que teve mais sobreviventes foi a de Idosos:', idosos)"
   ]
  },
  {
   "cell_type": "markdown",
   "metadata": {},
   "source": [
    "# REFERÊNCIAS\n",
    "\n",
    "- [Titanic: Machine Learning from Disaster](https://www.kaggle.com/c/titanic/data)\n",
    "- [Encyclopedia Titanica](https://www.encyclopedia-titanica.org/)\n",
    "- [Basic Feature Engineering with the Titanic Data](https://triangleinequality.wordpress.com/2013/09/08/basic-feature-engineering-with-the-titanic-data/)\n",
    "- Hind, Philip.  \"Encyclopedia Titanica.\"  Online.  Internet. n.p.  02 Aug 1999."
   ]
  }
 ],
 "metadata": {
  "kernelspec": {
   "display_name": "Python 3",
   "language": "python",
   "name": "python3"
  },
  "language_info": {
   "codemirror_mode": {
    "name": "ipython",
    "version": 3
   },
   "file_extension": ".py",
   "mimetype": "text/x-python",
   "name": "python",
   "nbconvert_exporter": "python",
   "pygments_lexer": "ipython3",
   "version": "3.9.7"
  }
 },
 "nbformat": 4,
 "nbformat_minor": 4
}
